{
 "cells": [
  {
   "cell_type": "markdown",
   "id": "9f1a801c",
   "metadata": {},
   "source": [
    "Why SPY\n",
    "1. Volatility is high\n",
    "2. Low Fees\n",
    "3. Cheaper than SPX\n",
    "\n",
    "Considerations\n",
    "1. Using different markets for predicting SPY\n",
    "2. Markets used\n",
    "Asian\n",
    "    AORD - AUS\n",
    "    HSI - HK\n",
    "    Nikkei - Japan\n",
    "EU\n",
    "    CAC40 - France\n",
    "    DAX - Germany\n",
    "US\n",
    "    SPY\n",
    "    S&P 500\n",
    "    Nasdaq\n",
    "    DJI"
   ]
  },
  {
   "cell_type": "code",
   "execution_count": 1,
   "id": "0c409c28",
   "metadata": {},
   "outputs": [],
   "source": [
    "import pandas as pd\n",
    "import numpy as np\n",
    "import scipy.stats as stats\n",
    "import matplotlib.pyplot as plt"
   ]
  },
  {
   "cell_type": "code",
   "execution_count": null,
   "id": "22ef098b",
   "metadata": {},
   "outputs": [],
   "source": [
    "aord = pd.read_csv('ALLOrdinary.csv')\n",
    "nikkei = pd.read_csv('Nikkei225.csv').ffill() \n",
    "# Forward fill to handle missing data by filling with the last available value\n",
    "hsi = pd.read_csv('HSI.csv')\n",
    "daxi= pd.read_csv('DAXI.csv')\n",
    "cac40 = pd.read_csv('CAC40.csv')\n",
    "sp500 = pd.read_csv('SP500.csv')\n",
    "nasdaq = pd.read_csv('nasdaq_composite.csv')\n",
    "spy = pd.read_csv('SPY.csv')\n",
    "dji = pd.read_csv('DJI.csv')\n",
    "\n",
    "# Adj Close is the adjusted closing price that has been amended to include any disputions or corporate actions"
   ]
  },
  {
   "cell_type": "markdown",
   "id": "7b90e1a2",
   "metadata": {},
   "source": [
    "$$ y = b_0 + b_1x_1 + b_2x_2 + b_3x_3 + ...$$\n",
    "\n",
    "Response Variable: Open Next Day - Open (Tmr's Open - Tdy's Open)\n",
    "Predictors:\n",
    "US: Open - Open Price of Lasr Day\n",
    "EU: Open - Open Last Dat (Price at noon - minus open price -> For intraday Data)\n",
    "Asian: Close - Open"
   ]
  },
  {
   "cell_type": "code",
   "execution_count": null,
   "id": "e69f0afc",
   "metadata": {},
   "outputs": [],
   "source": []
  }
 ],
 "metadata": {
  "kernelspec": {
   "display_name": ".venv",
   "language": "python",
   "name": "python3"
  },
  "language_info": {
   "codemirror_mode": {
    "name": "ipython",
    "version": 3
   },
   "file_extension": ".py",
   "mimetype": "text/x-python",
   "name": "python",
   "nbconvert_exporter": "python",
   "pygments_lexer": "ipython3",
   "version": "3.12.10"
  }
 },
 "nbformat": 4,
 "nbformat_minor": 5
}
